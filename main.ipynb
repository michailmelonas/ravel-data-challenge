{
 "cells": [
  {
   "cell_type": "code",
   "execution_count": null,
   "id": "a1ece854",
   "metadata": {},
   "outputs": [],
   "source": [
    "# ! python3 -m spacy download en_core_web_lg"
   ]
  },
  {
   "cell_type": "code",
   "execution_count": 1,
   "id": "67038d9b",
   "metadata": {},
   "outputs": [],
   "source": [
    "import re\n",
    "from typing import List, Set, Tuple\n",
    "\n",
    "import numpy as np\n",
    "import pandas as pd\n",
    "import spacy"
   ]
  },
  {
   "cell_type": "markdown",
   "id": "eec9b2ed",
   "metadata": {},
   "source": [
    "### Pre-processing"
   ]
  },
  {
   "cell_type": "code",
   "execution_count": 2,
   "id": "88fd381a",
   "metadata": {},
   "outputs": [],
   "source": [
    "def replace_annotated_party_names(s: str) -> str:\n",
    "    pattern = r\"{party([A-Z])_?}(.*?){/?party\\1_?}\"\n",
    "    replacement = r\"party\\1\"\n",
    "    return re.sub(pattern, replacement, s)\n",
    "\n",
    "\n",
    "def replace_annotated_firm_names(s: str) -> str:\n",
    "    pattern = r\"{firm([1-9])_?}(.*?){/?firm\\1_?}\"  # todo: support arbitrary integers\n",
    "    replacement = r\"firm\\1\"\n",
    "    return re.sub(pattern, replacement, s)"
   ]
  },
  {
   "cell_type": "code",
   "execution_count": 3,
   "id": "e3540039",
   "metadata": {},
   "outputs": [],
   "source": [
    "nlp = spacy.load(\"en_core_web_lg\", disable=[\"ner\", \"pos\"]) # todo: optimize"
   ]
  },
  {
   "cell_type": "code",
   "execution_count": 4,
   "id": "cdaab1f9",
   "metadata": {},
   "outputs": [],
   "source": [
    "def get_pre_processed_sentences(data: str) -> List[str]:\n",
    "    paragraphs = (\n",
    "        replace_annotated_firm_names(replace_annotated_party_names(data))\n",
    "        .splitlines()\n",
    "    )\n",
    "    return [str(sent).lower() for doc in nlp.pipe(paragraphs) for sent in doc.sents]"
   ]
  },
  {
   "cell_type": "markdown",
   "id": "3ca972ba",
   "metadata": {},
   "source": [
    "### Modelling"
   ]
  },
  {
   "cell_type": "code",
   "execution_count": 5,
   "id": "2be7bd61",
   "metadata": {},
   "outputs": [],
   "source": [
    "\"\"\"\n",
    "Assumptions: \n",
    "1. Parties cannot assume mutually exclusive roles. That is, a single party cannot simultaneously be a plaintiff \n",
    "and a defendant/defendant-intervenor (but could, of course, be a counter-defendant). Similarly, a single party \n",
    "cannot simultaneously be a defendant and a plaintiff, or be a petitioner and a respondant, etc.\n",
    "2. When our system delivers mutually exclusive roles (e.g. returns both defendant and plaintiff) we give preference\n",
    "to the first discovered role. This is motivated by the fact that the search for party roles starts with the \" v. \"\n",
    "approach which seems more reliable than the second phase which simply looks for a party and role mention\n",
    "in the same sentence. However, once in phase 2, it seems fair to assume that the sentence that reveals a given \n",
    "party's role will appear before other sentences which might mention the party in question and a role that does not\n",
    "belong to them.\n",
    "\"\"\"\n",
    "\n",
    "\n",
    "class LegalPartyRolesDetector:\n",
    "    _PARTY_ROLES = {\n",
    "        \"defendant\", \n",
    "        \"plaintiff\",\n",
    "        \"counter-defendant\",\n",
    "        \"counter-plaintiff\",\n",
    "        \"counter-claimant\",\n",
    "        \"appellee\",\n",
    "        \"appellant\",\n",
    "        \"defendant-intervenor\",\n",
    "        \"petitioner\",\n",
    "        \"respondent\",\n",
    "    }\n",
    "    _MUTUALLY_EXCLUSIVE_PARTY_ROLES_MAPPING = {\n",
    "        \"defendant\": [\"plaintiff\", \"defendant-intervenor\"],\n",
    "        \"plaintiff\": [\"defendant\", \"defendant-intervenor\"],\n",
    "        \"defendant-intervenor\": [\"plaintiff\", \"defendant\"],\n",
    "        \"petitioner\": [\"respondent\"],\n",
    "        \"respondent\": [\"petitioner\"],\n",
    "        \"appellee\": [\"appellant\"],\n",
    "        \"appellant\": [\"appellee\"],\n",
    "        \"counter-defendant\": [],\n",
    "        \"counter-claimant\": [],\n",
    "        \"counter-plaintiff\": [],\n",
    "    }\n",
    "    \n",
    "    def __init__(self, opinion: int, party_letter: str):\n",
    "        self._opinion = opinion\n",
    "        self._party_letter = party_letter\n",
    "    \n",
    "        self._sorted_party_roles: List[str] = []\n",
    "        self._identified_party_roles: Set[str] = set()\n",
    "            \n",
    "        self._set_sorted_party_roles_by_length()\n",
    "        \n",
    "    def predict(self) -> Set[str]:\n",
    "        with open(f\"Opinions/Opinion{self._opinion}.txt\", \"r\") as file:\n",
    "            sentences = get_pre_processed_sentences(file.read())\n",
    "        \n",
    "        # phase 1\n",
    "        for sentence in sentences:\n",
    "            if (\n",
    "                \" v. \" in sentence and \n",
    "                f\"party{self._party_letter}\" in sentence and\n",
    "                any(role in sentence for role in self._sorted_party_roles)\n",
    "            ):\n",
    "                for s in sentence.split(\" v. \"):\n",
    "                    if f\"party{self._party_letter}\" in s:\n",
    "                        for role in self._sorted_party_roles: \n",
    "                            regex_pattern = self._get_regex_pattern(role)\n",
    "                            match = re.search(regex_pattern, s)\n",
    "                            if match:\n",
    "                                self._add(role)\n",
    "                                s = re.sub(regex_pattern, \"\", s)\n",
    "                                \n",
    "        # phase 2\n",
    "        for sentence in sentences:\n",
    "            if (\n",
    "                f\"party{self._party_letter}\" in sentence and \n",
    "                self._get_role_count(sentence) == 1\n",
    "            ):\n",
    "                for role in self._sorted_party_roles:\n",
    "                    regex_pattern = self._get_regex_pattern(role)\n",
    "                    match = re.search(regex_pattern, sentence)\n",
    "                    if match:\n",
    "                        self._add(role)\n",
    "                        break\n",
    "                        \n",
    "        return self._identified_party_roles\n",
    "        \n",
    "    def _add(self, role: str) -> None:\n",
    "        if self._is_conflicting_role(role):\n",
    "            return\n",
    "        self._identified_party_roles.add(role)\n",
    "    \n",
    "    def _set_sorted_party_roles_by_length(self) -> None:\n",
    "        self._sorted_party_roles = sorted(list(self._PARTY_ROLES), key=len, reverse=True)\n",
    "    \n",
    "    def _is_conflicting_role(self, role: str) -> bool:\n",
    "        for identified_party_role in self._identified_party_roles:\n",
    "            for m_e_role in self._MUTUALLY_EXCLUSIVE_PARTY_ROLES_MAPPING[identified_party_role]:\n",
    "                if role == m_e_role:\n",
    "                    return True\n",
    "        return False\n",
    "    \n",
    "    def _get_role_count(self, s: str) -> int:\n",
    "        \"Count the number of party roles present in a given sentence\"\n",
    "        count = 0\n",
    "        for role in self._sorted_party_roles:\n",
    "            regex_pattern = self._get_regex_pattern(role)\n",
    "            match = re.search(regex_pattern, s)\n",
    "            if match:\n",
    "                count += 1\n",
    "                s = re.sub(regex_pattern, \"\", s)\n",
    "        return count\n",
    "    \n",
    "    @staticmethod\n",
    "    def _get_regex_pattern(role: str) -> str:\n",
    "        return r\"\\b\" + role + r\"s?\\b\""
   ]
  },
  {
   "cell_type": "code",
   "execution_count": 6,
   "id": "b6ef7ad8",
   "metadata": {},
   "outputs": [],
   "source": [
    "class LegalRepresentationDetector:\n",
    "    def __init__(self, opinion: int, party_letter: str, identified_party_roles: Set[str]):\n",
    "        self._opinion = opinion\n",
    "        self._party_letter = party_letter\n",
    "        self._identified_party_roles = identified_party_roles\n",
    "        \n",
    "        self._identified_firms: Set[int] = set()\n",
    "        \n",
    "    def predict(self) -> Set[int]:\n",
    "        with open(f\"Opinions/Opinion{self._opinion}.txt\", \"r\") as file:\n",
    "            sentences = get_pre_processed_sentences(file.read())\n",
    "        \n",
    "        for sentence in sentences:\n",
    "            if not re.search(r\"firm([1-9])\", sentence):\n",
    "                continue\n",
    "            if re.search(r\"party([a-z])\", sentence):\n",
    "                # if sentence contains party mention then we don't resort to party role usage\n",
    "                if f\"party{self._party_letter}\" in sentence:\n",
    "                    firm_numbers = self._get_firm_numbers(sentence)\n",
    "                    self._identified_firms.update(firm_numbers)\n",
    "            elif any([re.search(r\"\\b\" + role + r\"s?\\b\", sentence) for role in self._identified_party_roles]):\n",
    "                firm_numbers = self._get_firm_numbers(sentence)\n",
    "                self._identified_firms.update(firm_numbers)\n",
    "                \n",
    "        return self._identified_firms\n",
    "    \n",
    "    @staticmethod\n",
    "    def _get_firm_numbers(sentence: str) -> Set[int]:\n",
    "        matches = re.findall(\"firm\\d+\", sentence)\n",
    "        return {int(firm.replace(\"firm\", \"\")) for firm in matches}"
   ]
  },
  {
   "cell_type": "markdown",
   "id": "6ca04148",
   "metadata": {},
   "source": [
    "### Results"
   ]
  },
  {
   "cell_type": "code",
   "execution_count": 7,
   "id": "98c9c9cc",
   "metadata": {},
   "outputs": [],
   "source": [
    "df = pd.read_csv(\"data.csv\")"
   ]
  },
  {
   "cell_type": "code",
   "execution_count": 8,
   "id": "bf9a16a9",
   "metadata": {},
   "outputs": [],
   "source": [
    "input_df = (\n",
    "    df[[\"Opinion\", \"Party Letter\"]]\n",
    "    .rename(columns={\"Opinion\": \"opinion\", \"Party Letter\": \"party_letter\"})\n",
    ")\n",
    "input_df[\"party_letter\"] = input_df[\"party_letter\"].str.lower()"
   ]
  },
  {
   "cell_type": "code",
   "execution_count": 9,
   "id": "a1851a50",
   "metadata": {},
   "outputs": [],
   "source": [
    "predictions = []\n",
    "\n",
    "for record in input_df.to_dict(orient=\"records\"):\n",
    "    # predict legal party roles\n",
    "    l_p_r_d = LegalPartyRolesDetector(**record)\n",
    "    record[\"identified_party_roles\"] = l_p_r_d.predict()\n",
    "    # predict law firm(s)\n",
    "    l_r_d = LegalRepresentationDetector(**record)\n",
    "    record[\"identified_law_firms\"] = l_r_d.predict()\n",
    "    \n",
    "    # transform data representation\n",
    "    if record[\"identified_party_roles\"] == set():\n",
    "        record[\"identified_party_roles\"] = np.nan\n",
    "    else: \n",
    "        record[\"identified_party_roles\"] = \", \".join(record[\"identified_party_roles\"])\n",
    "    \n",
    "    if record[\"identified_law_firms\"] == set():\n",
    "        record[\"identified_law_firms\"] = np.nan\n",
    "    else:\n",
    "        record[\"identified_law_firms\"] = \",\".join([str(firm) for firm in record[\"identified_law_firms\"]])\n",
    "    \n",
    "    # append to predictions\n",
    "    predictions.append(record)"
   ]
  },
  {
   "cell_type": "code",
   "execution_count": 10,
   "id": "f03d6fc4",
   "metadata": {},
   "outputs": [],
   "source": [
    "prediction_df = (\n",
    "    pd.DataFrame(predictions)\n",
    "    .rename(columns={\n",
    "        \"opinion\": \"Opinion\", \n",
    "        \"party_letter\": \"Party Letter\",\n",
    "        \"identified_party_roles\": \"Party type(s) - Modeled\",\n",
    "        \"identified_law_firms\": \"Law firm(s) - Model\"\n",
    "    })\n",
    ")\n",
    "prediction_df[\"Party Letter\"] = prediction_df[\"Party Letter\"].str.upper()"
   ]
  },
  {
   "cell_type": "code",
   "execution_count": 11,
   "id": "759a5e3f",
   "metadata": {},
   "outputs": [],
   "source": [
    "results_df = pd.merge(df, prediction_df, on=[\"Opinion\", \"Party Letter\"], suffixes=(\"_\", \"\"))[[\n",
    "    \"Opinion\", \n",
    "    \"Party Letter\", \n",
    "    \"Party type(s) - Annotated\", \n",
    "    \"Party type(s) - Modeled\", \n",
    "    \"Law firm(s) - Annotated\", \n",
    "    \"Law firm(s) - Model\",\n",
    "]]"
   ]
  },
  {
   "cell_type": "code",
   "execution_count": 12,
   "id": "4f90f1bf",
   "metadata": {},
   "outputs": [
    {
     "data": {
      "text/html": [
       "<div>\n",
       "<style scoped>\n",
       "    .dataframe tbody tr th:only-of-type {\n",
       "        vertical-align: middle;\n",
       "    }\n",
       "\n",
       "    .dataframe tbody tr th {\n",
       "        vertical-align: top;\n",
       "    }\n",
       "\n",
       "    .dataframe thead th {\n",
       "        text-align: right;\n",
       "    }\n",
       "</style>\n",
       "<table border=\"1\" class=\"dataframe\">\n",
       "  <thead>\n",
       "    <tr style=\"text-align: right;\">\n",
       "      <th></th>\n",
       "      <th>Opinion</th>\n",
       "      <th>Party Letter</th>\n",
       "      <th>Party type(s) - Annotated</th>\n",
       "      <th>Party type(s) - Modeled</th>\n",
       "      <th>Law firm(s) - Annotated</th>\n",
       "      <th>Law firm(s) - Model</th>\n",
       "    </tr>\n",
       "  </thead>\n",
       "  <tbody>\n",
       "    <tr>\n",
       "      <th>0</th>\n",
       "      <td>1</td>\n",
       "      <td>B</td>\n",
       "      <td>defendant</td>\n",
       "      <td>defendant</td>\n",
       "      <td>2</td>\n",
       "      <td>2</td>\n",
       "    </tr>\n",
       "    <tr>\n",
       "      <th>1</th>\n",
       "      <td>1</td>\n",
       "      <td>G</td>\n",
       "      <td>defendant</td>\n",
       "      <td>NaN</td>\n",
       "      <td>2</td>\n",
       "      <td>2</td>\n",
       "    </tr>\n",
       "  </tbody>\n",
       "</table>\n",
       "</div>"
      ],
      "text/plain": [
       "   Opinion Party Letter Party type(s) - Annotated Party type(s) - Modeled  \\\n",
       "0        1            B                 defendant               defendant   \n",
       "1        1            G                 defendant                     NaN   \n",
       "\n",
       "  Law firm(s) - Annotated Law firm(s) - Model  \n",
       "0                       2                   2  \n",
       "1                       2                   2  "
      ]
     },
     "execution_count": 12,
     "metadata": {},
     "output_type": "execute_result"
    }
   ],
   "source": [
    "results_df.head(n=2)"
   ]
  },
  {
   "cell_type": "code",
   "execution_count": 13,
   "id": "a79126ca",
   "metadata": {},
   "outputs": [],
   "source": [
    "def get_rates(results_df: pd.DataFrame, actual_col: str, pred_col: str, separator: str) -> Tuple[int]:\n",
    "    \"\"\"\n",
    "    Parameters\n",
    "    ----------\n",
    "    results_df : pandas.DataFrame\n",
    "        Columns:\n",
    "            Name: Party type(s) - Annotated, dtype: object\n",
    "            Name: Party type(s) - Modeled, dtype: object\n",
    "            Name: Law firm(s) - Annotated, dtype: object\n",
    "            Name: Law firm(s) - Model, dtype: object\n",
    "    \"\"\"\n",
    "    tp, fp, fn = 0, 0, 0\n",
    "    \n",
    "    for record in results_df.to_dict(orient=\"records\"):\n",
    "        if type(record[actual_col]) == float:\n",
    "            actuals = []\n",
    "        else:\n",
    "            actuals = record[actual_col].split(separator)\n",
    "\n",
    "        if type(record[pred_col]) == float:\n",
    "            preds = []\n",
    "        else:\n",
    "            preds = record[pred_col].split(separator)\n",
    "\n",
    "        for actual in actuals:\n",
    "            if actual in preds:\n",
    "                tp += 1\n",
    "            else:\n",
    "                fn += 1\n",
    "        for pred in preds:\n",
    "            if pred not in actuals:\n",
    "                fp += 1\n",
    "    \n",
    "    return tp, fp, fn"
   ]
  },
  {
   "cell_type": "code",
   "execution_count": 14,
   "id": "a0b373f2",
   "metadata": {},
   "outputs": [],
   "source": [
    "def get_precision(tp: int, fp: int) -> float:\n",
    "    return tp / (tp + fp)\n",
    "\n",
    "\n",
    "def get_recall(tp: int, fn: int) -> float:\n",
    "    return tp / (tp + fn)\n",
    "\n",
    "\n",
    "def get_f1_score(tp: int, fp: int, fn: int) -> float:\n",
    "    return 2 * get_precision(tp, fp) * get_recall(tp, fn) / (get_precision(tp, fp) + get_recall(tp, fn))"
   ]
  },
  {
   "cell_type": "markdown",
   "id": "3a348bdd",
   "metadata": {},
   "source": [
    "### Party types"
   ]
  },
  {
   "cell_type": "code",
   "execution_count": 15,
   "id": "edd2f767",
   "metadata": {},
   "outputs": [],
   "source": [
    "actual_col, pred_col = \"Party type(s) - Annotated\", \"Party type(s) - Modeled\"\n",
    "separator = \", \"\n",
    "\n",
    "tp, fp, fn = get_rates(\n",
    "    results_df, \n",
    "    actual_col=actual_col,\n",
    "    pred_col=pred_col,\n",
    "    separator=separator,\n",
    ")"
   ]
  },
  {
   "cell_type": "code",
   "execution_count": 16,
   "id": "214a90de",
   "metadata": {},
   "outputs": [
    {
     "name": "stdout",
     "output_type": "stream",
     "text": [
      "Precision: 0.94\n",
      "Recall: 0.92\n",
      "F1 score: 0.93\n"
     ]
    }
   ],
   "source": [
    "precision = get_precision(tp, fp)\n",
    "recall = get_recall(tp, fn)\n",
    "f1 = get_f1_score(tp, fp, fn)\n",
    "\n",
    "print(f\"Precision: {round(precision, 2)}\\nRecall: {round(recall, 2)}\\nF1 score: {round(f1, 2)}\")"
   ]
  },
  {
   "cell_type": "markdown",
   "id": "402e3c7c",
   "metadata": {},
   "source": [
    "### Law firms"
   ]
  },
  {
   "cell_type": "code",
   "execution_count": 17,
   "id": "70c5b724",
   "metadata": {},
   "outputs": [],
   "source": [
    "actual_col, pred_col = \"Law firm(s) - Annotated\", \"Law firm(s) - Model\"\n",
    "separator = \",\"\n",
    "\n",
    "tp, fp, fn = get_rates(\n",
    "    results_df, \n",
    "    actual_col=actual_col,\n",
    "    pred_col=pred_col,\n",
    "    separator=separator,\n",
    ")"
   ]
  },
  {
   "cell_type": "code",
   "execution_count": 18,
   "id": "8111e584",
   "metadata": {},
   "outputs": [
    {
     "name": "stdout",
     "output_type": "stream",
     "text": [
      "Precision: 1.0\n",
      "Recall: 0.82\n",
      "F1 score: 0.9\n"
     ]
    }
   ],
   "source": [
    "precision = get_precision(tp, fp)\n",
    "recall = get_recall(tp, fn)\n",
    "f1 = get_f1_score(tp, fp, fn)\n",
    "\n",
    "print(f\"Precision: {round(precision, 2)}\\nRecall: {round(recall, 2)}\\nF1 score: {round(f1, 2)}\")"
   ]
  }
 ],
 "metadata": {
  "kernelspec": {
   "display_name": "Python 3 (ipykernel)",
   "language": "python",
   "name": "python3"
  },
  "language_info": {
   "codemirror_mode": {
    "name": "ipython",
    "version": 3
   },
   "file_extension": ".py",
   "mimetype": "text/x-python",
   "name": "python",
   "nbconvert_exporter": "python",
   "pygments_lexer": "ipython3",
   "version": "3.8.5"
  }
 },
 "nbformat": 4,
 "nbformat_minor": 5
}
